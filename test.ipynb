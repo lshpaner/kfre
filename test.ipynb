{
 "cells": [
  {
   "cell_type": "code",
   "execution_count": 1,
   "metadata": {},
   "outputs": [
    {
     "name": "stdout",
     "output_type": "stream",
     "text": [
      "Name: kfre\n",
      "Version: 0.1.0a1\n",
      "Summary: A Python library for kidney failure risk estimation using Tangri's KFRE model\n",
      "Home-page: https://github.com/lshpaner/kfre\n",
      "Author: Leonid Shpaner\n",
      "Author-email: lshpaner@ucla.edu\n",
      "License: \n",
      "Location: c:\\users\\lshpaner\\anaconda3\\envs\\custom_conda\\lib\\site-packages\n",
      "Requires: numpy, pandas\n",
      "Required-by: \n",
      "Note: you may need to restart the kernel to use updated packages.\n"
     ]
    },
    {
     "name": "stderr",
     "output_type": "stream",
     "text": [
      "WARNING: Package(s) not found: #, inspect, library, the\n"
     ]
    }
   ],
   "source": [
    "pip show kfre # inspect the library"
   ]
  },
  {
   "cell_type": "code",
   "execution_count": 4,
   "metadata": {},
   "outputs": [
    {
     "name": "stdout",
     "output_type": "stream",
     "text": [
      "   Age  Gender  2_Year_Risk  5_Year_Risk\n",
      "0   65    male     0.083477     0.238253\n",
      "1   70  female     0.002315     0.007209\n"
     ]
    }
   ],
   "source": [
    "import pandas as pd\n",
    "from kfre import RiskPredictor\n",
    "\n",
    "# Sample data\n",
    "## Note:\n",
    "data = pd.DataFrame(\n",
    "    {\n",
    "        \"Age\": [65, 70],\n",
    "        \"Gender\": [\"male\", \"female\"],\n",
    "        \"eGFR\": [20, 50],\n",
    "        \"Urine_Albumin_Creatinine_Ratio\": [30, 35],  # in mg/g\n",
    "        \"Region\": [\"North America\", \"Other\"],\n",
    "        \"Diabetes\": [1, 0],\n",
    "        \"Hypertension\": [1, 1],\n",
    "    }\n",
    ")\n",
    "\n",
    "\n",
    "# Column mapping\n",
    "columns = {\n",
    "    \"age\": \"Age\",\n",
    "    \"sex\": \"Gender\",\n",
    "    \"eGFR\": \"eGFR\",\n",
    "    \"uACR\": \"Urine_Albumin_Creatinine_Ratio\",\n",
    "    \"region\": \"Region\",\n",
    "    \"dm\": \"Diabetes\",\n",
    "    \"htn\": \"Hypertension\",\n",
    "}\n",
    "\n",
    "# Initialize the predictor\n",
    "predictor = RiskPredictor(data, columns)\n",
    "\n",
    "# Predict CKD risk for 2 years using basic 4-variable model\n",
    "data[\"2_Year_Risk\"] = predictor.predict_kfre(\n",
    "    years=2, is_north_american=True, num_vars=4\n",
    ")\n",
    "\n",
    "# Predict CKD risk for 5 years using basic 4-variable model\n",
    "data[\"5_Year_Risk\"] = predictor.predict_kfre(\n",
    "    years=5, is_north_american=True, num_vars=4\n",
    ")\n",
    "\n",
    "print(data[[\"Age\", \"Gender\", \"2_Year_Risk\", \"5_Year_Risk\"]])"
   ]
  }
 ],
 "metadata": {
  "kernelspec": {
   "display_name": "custom_conda",
   "language": "python",
   "name": "python3"
  },
  "language_info": {
   "codemirror_mode": {
    "name": "ipython",
    "version": 3
   },
   "file_extension": ".py",
   "mimetype": "text/x-python",
   "name": "python",
   "nbconvert_exporter": "python",
   "pygments_lexer": "ipython3",
   "version": "3.8.19"
  }
 },
 "nbformat": 4,
 "nbformat_minor": 2
}
